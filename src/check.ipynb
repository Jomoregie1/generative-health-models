{
 "cells": [
  {
   "cell_type": "code",
   "execution_count": 11,
   "id": "6ec580df",
   "metadata": {},
   "outputs": [
    {
     "name": "stdout",
     "output_type": "stream",
     "text": [
      "cwd: C:\\Users\\Joseph\\generative-health-models\n",
      "sys.path[0]: C:\\Users\\Joseph\\generative-health-models\\src\n"
     ]
    }
   ],
   "source": [
    "import sys, json, time,os\n",
    "from types import SimpleNamespace\n",
    "from pathlib import Path\n",
    "\n",
    "PROJECT_ROOT = Path(r\"C:\\Users\\Joseph\\generative-health-models\")\n",
    "SRC = PROJECT_ROOT / \"src\"\n",
    "\n",
    "if not SRC.exists():\n",
    "    raise FileNotFoundError(f\"Expected folder not found: {SRC}\")\n",
    "\n",
    "# Ensure our local 'src' comes before site-packages (avoid clash with HuggingFace 'datasets')\n",
    "os.chdir(PROJECT_ROOT)\n",
    "if str(SRC) not in sys.path:\n",
    "    sys.path.insert(0, str(SRC))\n",
    "print(\"cwd:\", os.getcwd())\n",
    "print(\"sys.path[0]:\", sys.path[0])"
   ]
  },
  {
   "cell_type": "code",
   "execution_count": 5,
   "id": "fbd176c8",
   "metadata": {},
   "outputs": [
    {
     "name": "stdout",
     "output_type": "stream",
     "text": [
      "norm_ecg.npz OK → mean=[-5.614325e-09], std=[0.9999998]\n",
      "norm_low.npz OK → mean=[-8.6496216e-10  1.1335446e-07], std=[0.9999582 0.9995736]\n"
     ]
    }
   ],
   "source": [
    "import numpy as np, os, sys\n",
    "\n",
    "def check_norm_file(path, expected_channels):\n",
    "    d = np.load(path)\n",
    "    for key in (\"mean\", \"std\"):\n",
    "        if key not in d:\n",
    "            raise AssertionError(f\"{path}: missing key '{key}'\")\n",
    "        if d[key].shape != (expected_channels,):\n",
    "            raise AssertionError(\n",
    "                f\"{path}: {key} has shape {d[key].shape}, expected {(expected_channels,)}\"\n",
    "            )\n",
    "        if not np.isfinite(d[key]).all():\n",
    "            raise AssertionError(f\"{path}: {key} contains non‑finite values\")\n",
    "    if (d[\"std\"] <= 0).any():\n",
    "        raise AssertionError(f\"{path}: 'std' must be > 0 for all channels\")\n",
    "    print(f\"{os.path.basename(path)} OK → mean={d['mean']}, std={d['std']}\")\n",
    "    return d[\"mean\"], d[\"std\"]\n",
    "\n",
    "if __name__ == \"__main__\":\n",
    "    m_low, s_low = check_norm_file(\"C:/Users/Joseph/generative-health-models/data/processed/tc_multigan_fold_S10_hp050_o2/norm_ecg.npz\", 1)\n",
    "    m_ecg, s_ecg = check_norm_file(\"C:/Users/Joseph/generative-health-models/data/processed/tc_multigan_fold_S10_hp050_o2/norm_low.npz\", 2)"
   ]
  },
  {
   "cell_type": "code",
   "execution_count": 7,
   "id": "b41b30e7",
   "metadata": {},
   "outputs": [
    {
     "name": "stdout",
     "output_type": "stream",
     "text": [
      "train_X_low.npy: mean=[-5.7201682e-08 -8.6496216e-10], std=[0.99957025 0.9999582 ], frac|x|>3=[0.00770951 0.01551355]\n",
      "train_X_ecg.npy: mean=[-5.614325e-09], std=[0.9999998], frac|x|>3=[0.02891105]\n"
     ]
    }
   ],
   "source": [
    "root = r\"C:/Users/Joseph/generative-health-models/data/processed/tc_multigan_fold_S10\"\n",
    "\n",
    "def stats(path):\n",
    "    x = np.load(os.path.join(root, path)).astype(np.float32)   # (N, T, C)\n",
    "    flat = x.reshape(-1, x.shape[-1])\n",
    "    mean = flat.mean(axis=0)\n",
    "    std  = flat.std(axis=0)\n",
    "    frac_gt3 = (np.abs(flat) > 3).mean(axis=0)\n",
    "    print(f\"{path}: mean={mean}, std={std}, frac|x|>3={frac_gt3}\")\n",
    "\n",
    "stats(\"train_X_low.npy\")   # expect 2 channels (EDA, RESP)\n",
    "stats(\"train_X_ecg.npy\")   # expect 1 channel"
   ]
  },
  {
   "cell_type": "code",
   "execution_count": 15,
   "id": "2b5dc10d",
   "metadata": {},
   "outputs": [
    {
     "name": "stdout",
     "output_type": "stream",
     "text": [
      "torch.Size([8, 256, 30]) torch.Size([8, 120, 2]) torch.Size([8, 5280, 1])\n"
     ]
    }
   ],
   "source": [
    "import sys, importlib, torch\n",
    "sys.path.insert(0, r\"C:\\Users\\Joseph\\generative-health-models\\src\")\n",
    "\n",
    "import models.tc_multigan as tcm\n",
    "importlib.reload(tcm)\n",
    "\n",
    "E = tcm.Embedder(hidden_dim=256, seq_length_low=120, seq_length_ecg=5280, latent_downsample=4)\n",
    "R = tcm.Recovery(hidden_dim=256, seq_length_low=120, seq_length_ecg=5280, latent_downsample=4)\n",
    "\n",
    "x_low = torch.randn(8, 120, 2)\n",
    "x_ecg = torch.randn(8, 5280, 1)\n",
    "\n",
    "h = E(x_low, x_ecg)              # -> (8, 256, 30)\n",
    "low_hat, ecg_hat = R(h)          # -> expect (8, 120, 2), (8, 5280, 1)\n",
    "\n",
    "print(h.shape, low_hat.shape, ecg_hat.shape)"
   ]
  },
  {
   "cell_type": "code",
   "execution_count": 19,
   "id": "79c9f3e5",
   "metadata": {},
   "outputs": [
    {
     "name": "stdout",
     "output_type": "stream",
     "text": [
      "torch.Size([8, 30, 256]) torch.Size([8, 29, 256]) torch.Size([8, 29, 256])\n"
     ]
    }
   ],
   "source": [
    "import sys, importlib, torch\n",
    "sys.path.insert(0, r\"C:\\Users\\Joseph\\generative-health-models\\src\")\n",
    "import models.tc_multigan as tcm\n",
    "importlib.reload(tcm)\n",
    "\n",
    "E = tcm.Embedder(hidden_dim=256, seq_length_low=120, seq_length_ecg=5280, latent_downsample=4)\n",
    "S = tcm.Supervisor(latent_dim=256, hidden_dim=256)\n",
    "\n",
    "# fake batch\n",
    "x_low = torch.randn(8, 120, 2)\n",
    "x_ecg = torch.randn(8, 5280, 1)\n",
    "\n",
    "# (B,H,T) -> (B,T,H) for S\n",
    "h = E(x_low, x_ecg).transpose(1, 2)     # (8, 30, 256)\n",
    "pred, tgt = S.predict_next(h)           # both (8, 29, 256)\n",
    "print(h.shape, pred.shape, tgt.shape)"
   ]
  },
  {
   "cell_type": "code",
   "execution_count": 20,
   "id": "577b1578",
   "metadata": {},
   "outputs": [
    {
     "name": "stdout",
     "output_type": "stream",
     "text": [
      "Saved: C:\\Users\\Joseph\\generative-health-models\\data\\processed\\tc_multigan_fold_s10\\stats_low_train_raw.npz C:\\Users\\Joseph\\generative-health-models\\data\\processed\\tc_multigan_fold_s10\\stats_ecg_train_raw.npz\n",
      "low mean/std: [-9.771369491318183e-09, 7.395823953260106e-10] [1.0, 0.9999997019767761]\n",
      "ecg mean/std: [-5.592353691241669e-09] [1.0000001192092896]\n"
     ]
    }
   ],
   "source": [
    "from pathlib import Path\n",
    "import numpy as np\n",
    "\n",
    "PROJECT_ROOT = r\"C:\\Users\\Joseph\\generative-health-models\"\n",
    "root = Path(PROJECT_ROOT) / \"data\" / \"processed\"\n",
    "fold = \"tc_multigan_fold_s10\"  # <-- adjust if needed\n",
    "\n",
    "train_low = np.load(root / fold / \"train_X_low.npy\").astype(np.float64)  # (N, T_low, 2)\n",
    "train_ecg = np.load(root / fold / \"train_X_ecg.npy\").astype(np.float64)  # (N, T_ecg, 1)\n",
    "\n",
    "def chan_stats(x):  # x: (N, T, C)\n",
    "    flat = x.reshape(-1, x.shape[-1])\n",
    "    mu = flat.mean(axis=0)\n",
    "    sd = flat.std(axis=0)          # ddof=0 to match np.std default\n",
    "    # safety clamp for zero std\n",
    "    sd = np.where(sd <= 0, 1.0, sd)\n",
    "    return mu.astype(np.float32), sd.astype(np.float32)\n",
    "\n",
    "mu_low, sd_low = chan_stats(train_low)\n",
    "mu_ecg, sd_ecg = chan_stats(train_ecg)\n",
    "\n",
    "out_low = root / fold / \"stats_low_train_raw.npz\"\n",
    "out_ecg = root / fold / \"stats_ecg_train_raw.npz\"\n",
    "np.savez(out_low, mean=mu_low, std=sd_low)\n",
    "np.savez(out_ecg, mean=mu_ecg, std=sd_ecg)\n",
    "print(\"Saved:\", out_low, out_ecg)\n",
    "print(\"low mean/std:\", mu_low.tolist(), sd_low.tolist())\n",
    "print(\"ecg mean/std:\", mu_ecg.tolist(), sd_ecg.tolist())"
   ]
  },
  {
   "cell_type": "code",
   "execution_count": 21,
   "id": "67a3d415",
   "metadata": {},
   "outputs": [
    {
     "name": "stdout",
     "output_type": "stream",
     "text": [
      "std_val_raw low: [0.14074133 0.91131198]\n",
      "std_trn_raw low: [1.00000005 0.99999973]\n",
      "expected val std after train-norm (low): [0.14074132 0.91131223]\n",
      "std_val_raw ecg: [0.53762832]\n",
      "std_trn_raw ecg: [1.00000012]\n",
      "expected val std after train-norm (ecg): [0.53762825]\n"
     ]
    }
   ],
   "source": [
    "from pathlib import Path\n",
    "import numpy as np\n",
    "\n",
    "root = Path(r\"C:\\Users\\Joseph\\generative-health-models\") / \"data\" / \"processed\" / \"tc_multigan_fold_s10\"\n",
    "\n",
    "def flat_std(x): return x.reshape(-1, x.shape[-1]).std(axis=0)\n",
    "\n",
    "val_low_raw = np.load(root / \"test_X_low.npy\").astype(np.float64)\n",
    "val_ecg_raw = np.load(root / \"test_X_ecg.npy\").astype(np.float64)\n",
    "trn_low_raw = np.load(root / \"train_X_low.npy\").astype(np.float64)\n",
    "trn_ecg_raw = np.load(root / \"train_X_ecg.npy\").astype(np.float64)\n",
    "\n",
    "print(\"std_val_raw low:\", flat_std(val_low_raw))\n",
    "print(\"std_trn_raw low:\", flat_std(trn_low_raw))\n",
    "print(\"expected val std after train-norm (low):\", flat_std(val_low_raw) / flat_std(trn_low_raw))\n",
    "\n",
    "print(\"std_val_raw ecg:\", flat_std(val_ecg_raw))\n",
    "print(\"std_trn_raw ecg:\", flat_std(trn_ecg_raw))\n",
    "print(\"expected val std after train-norm (ecg):\", flat_std(val_ecg_raw) / flat_std(trn_ecg_raw))"
   ]
  },
  {
   "cell_type": "code",
   "execution_count": 22,
   "id": "51469ca3",
   "metadata": {},
   "outputs": [
    {
     "name": "stdout",
     "output_type": "stream",
     "text": [
      "test_cond.npy shape: (194,)\n",
      "Integer labels found: {1: 77, 2: 46, 3: 23, 4: 48}\n"
     ]
    }
   ],
   "source": [
    "from pathlib import Path\n",
    "import numpy as np\n",
    "\n",
    "fold = Path(r\"C:\\Users\\Joseph\\generative-health-models\\data\\processed\\tc_multigan_fold_S10\")\n",
    "cond_p = fold / \"test_cond.npy\"\n",
    "cond = np.load(cond_p)\n",
    "\n",
    "print(\"test_cond.npy shape:\", cond.shape)\n",
    "\n",
    "# If one-hot over time (N,120,K), compute class prevalence across windows & time\n",
    "if cond.ndim == 3:\n",
    "    K = cond.shape[-1]\n",
    "    prev = cond.mean(axis=(0,1))\n",
    "    print(\"K (num classes) =\", K)\n",
    "    print(\"Class prevalence (argmax order):\", prev)\n",
    "# If one-hot (N,K), compute prevalence across windows\n",
    "elif cond.ndim == 2:\n",
    "    K = cond.shape[-1]\n",
    "    prev = cond.mean(axis=0)\n",
    "    print(\"K (num classes) =\", K)\n",
    "    print(\"Class prevalence (argmax order):\", prev)\n",
    "# If already integer labels (N,)\n",
    "else:\n",
    "    uniq, cnt = np.unique(cond, return_counts=True)\n",
    "    print(\"Integer labels found:\", dict(zip(uniq.tolist(), cnt.tolist())))"
   ]
  },
  {
   "cell_type": "code",
   "execution_count": 24,
   "id": "61d25067",
   "metadata": {},
   "outputs": [
    {
     "name": "stdout",
     "output_type": "stream",
     "text": [
      "\n",
      " C:\\Users\\Joseph\\generative-health-models\\results\\evaluation\\real_3class_split\\real_baseline.npz\n",
      " keys: ['X', 'y']\n",
      "  X: shape=(23, 5250, 3), dtype=float32\n",
      "  y: shape=(23,), dtype=int32\n",
      "\n",
      " C:\\Users\\Joseph\\generative-health-models\\results\\evaluation\\real_3class_split\\real_stress.npz\n",
      " keys: ['X', 'y']\n",
      "  X: shape=(46, 5250, 3), dtype=float32\n",
      "  y: shape=(46,), dtype=int32\n",
      "\n",
      " C:\\Users\\Joseph\\generative-health-models\\results\\evaluation\\real_3class_split\\real_amusement.npz\n",
      " keys: ['X', 'y']\n",
      "  X: shape=(77, 5250, 3), dtype=float32\n",
      "  y: shape=(77,), dtype=int32\n"
     ]
    }
   ],
   "source": [
    "import numpy as np\n",
    "from pathlib import Path\n",
    "\n",
    "REAL_SPLIT_DIR = Path(r\"C:\\Users\\Joseph\\generative-health-models\\results\\evaluation\\real_3class_split\")\n",
    "\n",
    "for name in [\"baseline\",\"stress\",\"amusement\"]:\n",
    "    p = REAL_SPLIT_DIR / f\"real_{name}.npz\"\n",
    "    d = np.load(p)\n",
    "    print(\"\\n\", p)\n",
    "    print(\" keys:\", list(d.keys()))\n",
    "    for k in d.keys():\n",
    "        v = d[k]\n",
    "        try:\n",
    "            print(f\"  {k}: shape={v.shape}, dtype={v.dtype}\")\n",
    "        except Exception:\n",
    "            print(f\"  {k}: (non-array)\")"
   ]
  },
  {
   "cell_type": "code",
   "execution_count": 25,
   "id": "226d837e",
   "metadata": {},
   "outputs": [
    {
     "name": "stdout",
     "output_type": "stream",
     "text": [
      "baseline: unique labels -> [0]  (expected only 0)\n",
      "stress: unique labels -> [1]  (expected only 1)\n",
      "amusement: unique labels -> [2]  (expected only 2)\n"
     ]
    }
   ],
   "source": [
    "import numpy as np\n",
    "from pathlib import Path\n",
    "\n",
    "REAL_SPLIT_DIR = Path(r\"C:\\Users\\Joseph\\generative-health-models\\results\\evaluation\\real_3class_split\")\n",
    "\n",
    "for name, expected in [(\"baseline\",0),(\"stress\",1),(\"amusement\",2)]:\n",
    "    d = np.load(REAL_SPLIT_DIR / f\"real_{name}.npz\")\n",
    "    labs = d[\"labels\"] if \"labels\" in d else d[\"y\"]\n",
    "    u = np.unique(labs)\n",
    "    print(f\"{name}: unique labels -> {u}  (expected only {expected})\")"
   ]
  },
  {
   "cell_type": "code",
   "execution_count": 26,
   "id": "e8ee3591",
   "metadata": {},
   "outputs": [
    {
     "name": "stdout",
     "output_type": "stream",
     "text": [
      "shadow wrote: C:\\Users\\Joseph\\generative-health-models\\results\\evaluation\\real_3class_split_shadow_wesad\\real_baseline.npz (23, 5250, 3) (23,)\n",
      "shadow wrote: C:\\Users\\Joseph\\generative-health-models\\results\\evaluation\\real_3class_split_shadow_wesad\\real_stress.npz (46, 5250, 3) (46,)\n",
      "shadow wrote: C:\\Users\\Joseph\\generative-health-models\\results\\evaluation\\real_3class_split_shadow_wesad\\real_amusement.npz (77, 5250, 3) (77,)\n"
     ]
    }
   ],
   "source": [
    "from pathlib import Path\n",
    "import numpy as np\n",
    "\n",
    "SRC = Path(r\"C:\\Users\\Joseph\\generative-health-models\\results\\evaluation\\real_3class_split\")\n",
    "DST = Path(r\"C:\\Users\\Joseph\\generative-health-models\\results\\evaluation\\real_3class_split_shadow_wesad\")\n",
    "DST.mkdir(parents=True, exist_ok=True)\n",
    "\n",
    "for name in [\"baseline\",\"stress\",\"amusement\"]:\n",
    "    d = np.load(SRC / f\"real_{name}.npz\")\n",
    "    # convert X/y → signals/labels (+channels) if needed\n",
    "    if {\"signals\",\"labels\"}.issubset(d.files):\n",
    "        signals = d[\"signals\"]; labels = d[\"labels\"]\n",
    "        channels = d[\"channels\"] if \"channels\" in d.files else np.array([\"ECG\",\"Resp\",\"EDA\"], dtype=object)\n",
    "    else:\n",
    "        signals = d[\"X\"]; labels = d[\"y\"]\n",
    "        channels = np.array([\"ECG\",\"Resp\",\"EDA\"], dtype=object)\n",
    "    np.savez_compressed(DST / f\"real_{name}.npz\",\n",
    "                        signals=signals.astype(np.float32, copy=False),\n",
    "                        labels=labels.astype(np.int32,  copy=False),\n",
    "                        channels=channels)\n",
    "    print(\"shadow wrote:\", DST / f\"real_{name}.npz\", signals.shape, labels.shape)"
   ]
  }
 ],
 "metadata": {
  "kernelspec": {
   "display_name": ".venv (3.11.1)",
   "language": "python",
   "name": "python3"
  },
  "language_info": {
   "codemirror_mode": {
    "name": "ipython",
    "version": 3
   },
   "file_extension": ".py",
   "mimetype": "text/x-python",
   "name": "python",
   "nbconvert_exporter": "python",
   "pygments_lexer": "ipython3",
   "version": "3.11.1"
  }
 },
 "nbformat": 4,
 "nbformat_minor": 5
}

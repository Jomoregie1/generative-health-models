{
 "cells": [
  {
   "cell_type": "code",
   "execution_count": 2,
   "id": "bd8e999a",
   "metadata": {},
   "outputs": [
    {
     "name": "stderr",
     "output_type": "stream",
     "text": [
      "c:\\Users\\Joseph\\generative-health-models\\.venv\\Lib\\site-packages\\tqdm\\auto.py:21: TqdmWarning: IProgress not found. Please update jupyter and ipywidgets. See https://ipywidgets.readthedocs.io/en/stable/user_install.html\n",
      "  from .autonotebook import tqdm as notebook_tqdm\n"
     ]
    }
   ],
   "source": [
    "import kagglehub\n",
    "import shutil\n",
    "import os\n",
    "import pickle\n",
    "import pandas as pd\n",
    "import numpy as np\n",
    "import matplotlib.pyplot as plt\n",
    "import seaborn as sns\n",
    "from pathlib import Path\n"
   ]
  },
  {
   "cell_type": "code",
   "execution_count": 7,
   "id": "8f5df012",
   "metadata": {},
   "outputs": [
    {
     "name": "stdout",
     "output_type": "stream",
     "text": [
      "Path to dataset files: C:\\Users\\Joseph\\.cache\\kagglehub\\datasets\\orvile\\wesad-wearable-stress-affect-detection-dataset\\versions\\1\n"
     ]
    }
   ],
   "source": [
    "def download_wesad_dataset():\n",
    "    \"\"\"Download WESAD dataset using kagglehub\"\"\"\n",
    "    try:\n",
    "        path = kagglehub.dataset_download(\"orvile/wesad-wearable-stress-affect-detection-dataset\")\n",
    "        print(\"Path to dataset files:\", path)\n",
    "        return path\n",
    "    except Exception as e:\n",
    "        print(f\"Error downloading dataset: {e}\")\n",
    "        return None\n",
    "\n",
    "download_path = download_wesad_dataset()"
   ]
  },
  {
   "cell_type": "code",
   "execution_count": 4,
   "id": "cd58fa76",
   "metadata": {},
   "outputs": [
    {
     "name": "stdout",
     "output_type": "stream",
     "text": [
      "Created: C:\\Users\\Joseph\\generative-health-models\\data/raw/wesad\n",
      "Created: C:\\Users\\Joseph\\generative-health-models\\data/processed\n",
      "Created: C:\\Users\\Joseph\\generative-health-models\\data/synthetic\n",
      "Created: C:\\Users\\Joseph\\generative-health-models\\models/tc_multigan\n",
      "Created: C:\\Users\\Joseph\\generative-health-models\\models/diffusion\n",
      "Created: C:\\Users\\Joseph\\generative-health-models\\notebooks\n",
      "Created: C:\\Users\\Joseph\\generative-health-models\\src/data\n",
      "Created: C:\\Users\\Joseph\\generative-health-models\\src/models\n",
      "Created: C:\\Users\\Joseph\\generative-health-models\\src/evaluation\n",
      "Created: C:\\Users\\Joseph\\generative-health-models\\results/figures\n",
      "Created: C:\\Users\\Joseph\\generative-health-models\\results/metrics\n",
      "Created: C:\\Users\\Joseph\\generative-health-models\\dashboard/backend\n",
      "Created: C:\\Users\\Joseph\\generative-health-models\\dashboard/frontend\n"
     ]
    }
   ],
   "source": [
    "def setup_project_structure():\n",
    "    \"\"\"Create organized project directory structure\"\"\"\n",
    "    \n",
    "    # Define paths\n",
    "    project_root = r\"C:\\Users\\Joseph\\generative-health-models\"\n",
    "    \n",
    "    # Create directory structure\n",
    "    directories = [\n",
    "        \"data/raw/wesad\",\n",
    "        \"data/processed\",\n",
    "        \"data/synthetic\", \n",
    "        \"models/tc_multigan\",\n",
    "        \"models/diffusion\",\n",
    "        \"notebooks\",\n",
    "        \"src/data\",\n",
    "        \"src/models\", \n",
    "        \"src/evaluation\",\n",
    "        \"results/figures\",\n",
    "        \"results/metrics\",\n",
    "        \"dashboard/backend\",\n",
    "        \"dashboard/frontend\"\n",
    "    ]\n",
    "    \n",
    "    for directory in directories:\n",
    "        dir_path = os.path.join(project_root, directory)\n",
    "        os.makedirs(dir_path, exist_ok=True)\n",
    "        print(f\"Created: {dir_path}\")\n",
    "    \n",
    "    return project_root\n",
    "\n",
    "# Setup project structure\n",
    "project_root = setup_project_structure()"
   ]
  },
  {
   "cell_type": "code",
   "execution_count": 5,
   "id": "603832af",
   "metadata": {},
   "outputs": [
    {
     "name": "stdout",
     "output_type": "stream",
     "text": [
      "Dataset copied to: C:\\Users\\Joseph\\generative-health-models\\data\\raw\\wesad\n",
      "\n",
      "Dataset contents:\n",
      "  📁 WESAD/\n"
     ]
    }
   ],
   "source": [
    "def copy_wesad_data():\n",
    "    \"\"\"Copy WESAD data from kagglehub cache to project directory\"\"\"\n",
    "    \n",
    "    # Source path from kagglehub cache\n",
    "    source_path = r\"C:\\Users\\Joseph\\.cache\\kagglehub\\datasets\\orvile\\wesad-wearable-stress-affect-detection-dataset\\versions\\1\"\n",
    "    \n",
    "    # Target path in project\n",
    "    target_path = os.path.join(project_root, \"data\", \"raw\", \"wesad\")\n",
    "    \n",
    "    try:\n",
    "        # Copy contents\n",
    "        if os.path.exists(source_path):\n",
    "            shutil.copytree(source_path, target_path, dirs_exist_ok=True)\n",
    "            print(f\"Dataset copied to: {target_path}\")\n",
    "            \n",
    "            # List contents to verify\n",
    "            print(\"\\nDataset contents:\")\n",
    "            for item in os.listdir(target_path):\n",
    "                item_path = os.path.join(target_path, item)\n",
    "                if os.path.isfile(item_path):\n",
    "                    size_mb = os.path.getsize(item_path) / (1024*1024)\n",
    "                    print(f\"  📄 {item} ({size_mb:.1f} MB)\")\n",
    "                else:\n",
    "                    print(f\"  📁 {item}/\")\n",
    "                    \n",
    "        else:\n",
    "            print(f\"Source path not found: {source_path}\")\n",
    "            \n",
    "    except Exception as e:\n",
    "        print(f\"Error copying dataset: {e}\")\n",
    "\n",
    "# Copy the dataset\n",
    "copy_wesad_data()"
   ]
  }
 ],
 "metadata": {
  "kernelspec": {
   "display_name": ".venv",
   "language": "python",
   "name": "python3"
  },
  "language_info": {
   "codemirror_mode": {
    "name": "ipython",
    "version": 3
   },
   "file_extension": ".py",
   "mimetype": "text/x-python",
   "name": "python",
   "nbconvert_exporter": "python",
   "pygments_lexer": "ipython3",
   "version": "3.11.1"
  }
 },
 "nbformat": 4,
 "nbformat_minor": 5
}

{
 "cells": [
  {
   "cell_type": "code",
   "execution_count": 23,
   "id": "9550a64e",
   "metadata": {},
   "outputs": [],
   "source": [
    "import os, re, glob, numpy as np\n",
    "\n",
    "base = Path(r\"C:\\Users\\Joseph\\generative-health-models\")\n"
   ]
  },
  {
   "cell_type": "code",
   "execution_count": 3,
   "id": "08863ed8",
   "metadata": {},
   "outputs": [
    {
     "name": "stdout",
     "output_type": "stream",
     "text": [
      "Top candidates (lower score is better):\n",
      "epoch | ecg_std  eda_std  resp_std | ecg_clip low_clip | n_ecg n_low | score\n",
      "    9 |   0.482   0.053    0.540 |   0.000   0.021 |     8     8 | 1.328\n",
      "    8 |   0.437   0.059    0.531 |   0.000   0.013 |     8     8 | 1.331\n",
      "    7 |   0.400   0.068    0.511 |   0.000   0.006 |     8     8 | 1.339\n",
      "   10 |   0.487   0.050    0.546 |   0.000   0.028 |     8     8 | 1.356\n",
      "    6 |   0.371   0.080    0.477 |   0.000   0.003 |     8     8 | 1.363\n",
      "   11 |   0.476   0.047    0.552 |   0.000   0.030 |     8     8 | 1.376\n",
      "   12 |   0.474   0.045    0.556 |   0.000   0.030 |     8     8 | 1.376\n",
      "   13 |   0.466   0.043    0.556 |   0.000   0.032 |     8     8 | 1.393\n",
      "\n",
      "Best epoch suggestion: 9\n",
      "Files:\n",
      "  ECG : ../results/samples_v14_mm_tune4_linearup_v4\\fake_ecg_epoch_009.npy\n",
      "  LOW : ../results/samples_v14_mm_tune4_linearup_v4\\fake_low_epoch_009.npy\n",
      "NPZ will be written to:\n",
      "  ../results/samples_v14_mm_tune4_linearup_v4\\gen_e009_lowecg.npz\n",
      "\n",
      "Packing command:\n",
      "python pack_fake_npz.py --fake_low \"../results/samples_v14_mm_tune4_linearup_v4\\fake_low_epoch_009.npy\" --fake_ecg \"../results/samples_v14_mm_tune4_linearup_v4\\fake_ecg_epoch_009.npy\" --out_npz \"../results/samples_v14_mm_tune4_linearup_v4\\gen_e009_lowecg.npz\"\n"
     ]
    }
   ],
   "source": [
    "# === EDIT THIS if your sample folder is different ===\n",
    "BASE = r\"../results/samples_v14_mm_tune4_linearup_v4\"\n",
    "\n",
    "# Margins (used just to estimate boundary/clipping fraction)\n",
    "ECG_MARGIN = 0.96\n",
    "LOW_MARGIN = 0.92\n",
    "\n",
    "def _epochs_from(pattern):\n",
    "    files = [f for f in glob.glob(os.path.join(BASE, pattern)) if \"_DENORM\" not in f]\n",
    "    out = {}\n",
    "    for f in files:\n",
    "        m = re.search(r'epoch_(\\d+)', os.path.basename(f))\n",
    "        if m: out[int(m.group(1))] = f\n",
    "    return out\n",
    "\n",
    "ecg_map = _epochs_from(\"fake_ecg_epoch_*.npy\")\n",
    "low_map = _epochs_from(\"fake_low_epoch_*.npy\")\n",
    "\n",
    "def ecg_stats(path):\n",
    "    x = np.load(path)           # (N, 5250, 1)\n",
    "    x = x.reshape(len(x), -1)\n",
    "    std_mean = x.std(axis=1).mean()\n",
    "    clip = (np.abs(x) > ECG_MARGIN).mean()\n",
    "    return {\"ecg_std\": float(std_mean), \"ecg_clip\": float(clip), \"n_ecg\": int(len(x))}\n",
    "\n",
    "def low_stats(path):\n",
    "    x = np.load(path)           # (N, 120, 2) -> [EDA, RESP]\n",
    "    eda = x[...,0].reshape(len(x), -1)\n",
    "    resp = x[...,1].reshape(len(x), -1)\n",
    "    eda_std = eda.std(axis=1).mean()\n",
    "    resp_std = resp.std(axis=1).mean()\n",
    "    low_clip = (np.abs(x) > LOW_MARGIN).mean()\n",
    "    return {\n",
    "        \"eda_std\": float(eda_std),\n",
    "        \"resp_std\": float(resp_std),\n",
    "        \"low_clip\": float(low_clip),\n",
    "        \"n_low\": int(len(x))\n",
    "    }\n",
    "\n",
    "rows = []\n",
    "for e in sorted(set(ecg_map.keys()) | set(low_map.keys())):\n",
    "    row = {\"epoch\": e}\n",
    "    if e in ecg_map: row.update(ecg_stats(ecg_map[e]))\n",
    "    if e in low_map: row.update(low_stats(low_map[e]))\n",
    "    # crude score: aim for std≈1 and little clipping\n",
    "    score = 0.0\n",
    "    if \"ecg_std\" in row:  score += abs(row[\"ecg_std\"] - 1.0)\n",
    "    if \"eda_std\" in row:  score += 0.5*abs(row[\"eda_std\"] - 1.0)\n",
    "    if \"resp_std\" in row: score += 0.5*abs(row[\"resp_std\"] - 1.0)\n",
    "    score += 5.0 * (row.get(\"ecg_clip\",0.0) + row.get(\"low_clip\",0.0))\n",
    "    row[\"score\"] = score\n",
    "    rows.append(row)\n",
    "\n",
    "# Pretty print\n",
    "if not rows:\n",
    "    print(\"No matching files found under:\", BASE)\n",
    "else:\n",
    "    rows = sorted(rows, key=lambda r: r[\"score\"])\n",
    "    print(\"Top candidates (lower score is better):\")\n",
    "    print(\"epoch | ecg_std  eda_std  resp_std | ecg_clip low_clip | n_ecg n_low | score\")\n",
    "    for r in rows[:8]:\n",
    "        print(f'{r[\"epoch\"]:>5} | {r.get(\"ecg_std\",np.nan):>7.3f} {r.get(\"eda_std\",np.nan):>7.3f} {r.get(\"resp_std\",np.nan):>8.3f} |'\n",
    "              f' {r.get(\"ecg_clip\",0):>7.3f} {r.get(\"low_clip\",0):>7.3f} | {r.get(\"n_ecg\",0):>5} {r.get(\"n_low\",0):>5} | {r[\"score\"]:>5.3f}')\n",
    "\n",
    "    best = rows[0][\"epoch\"]\n",
    "    ecg_f = ecg_map.get(best)\n",
    "    low_f = low_map.get(best)\n",
    "    out_npz = os.path.join(BASE, f\"gen_e{best:03d}_lowecg.npz\")\n",
    "\n",
    "    print(\"\\nBest epoch suggestion:\", best)\n",
    "    print(\"Files:\")\n",
    "    print(\"  ECG :\", ecg_f)\n",
    "    print(\"  LOW :\", low_f)\n",
    "    print(\"NPZ will be written to:\")\n",
    "    print(\" \", out_npz)\n",
    "\n",
    "    # Also print the exact packing command you can run:\n",
    "    print(\"\\nPacking command:\")\n",
    "    print(f'python pack_fake_npz.py --fake_low \"{low_f}\" --fake_ecg \"{ecg_f}\" --out_npz \"{out_npz}\"')\n",
    "\n",
    "    # Optional: pack right here (uncomment to create the npz now)\n",
    "    # ecg = np.load(ecg_f)\n",
    "    # low = np.load(low_f)\n",
    "    # np.savez(out_npz, low=low, ecg=ecg)\n",
    "    # print(\"Wrote:\", out_npz)"
   ]
  },
  {
   "cell_type": "code",
   "execution_count": null,
   "id": "501b7d36",
   "metadata": {},
   "outputs": [],
   "source": [
    "low_path = r\"..\\results\\samples_v14_mm_tune4_linearup_v4\\fake_low_epoch_009.npy\"\n",
    "ecg_path = r\"..\\results\\samples_v14_mm_tune4_linearup_v4\\fake_ecg_epoch_009.npy\"\n",
    "out_npz  = r\"..\\results\\samples_v14_mm_tune4_linearup_v4\\gen_e009_lowecg.npz\"\n",
    "\n",
    "low = np.load(low_path, mmap_mode=\"r\")   # (N, 120, 2) -> [:,:,0]=EDA, [:,:,1]=RESP\n",
    "ecg = np.load(ecg_path, mmap_mode=\"r\")   # (N, 5250, 1)\n",
    "\n",
    "np.savez(out_npz, low=low, ecg=ecg)\n",
    "print(\"Wrote:\", out_npz, \"| shapes:\", low.shape, ecg.shape)"
   ]
  },
  {
   "cell_type": "code",
   "execution_count": 7,
   "id": "5c2b85eb",
   "metadata": {},
   "outputs": [
    {
     "name": "stdout",
     "output_type": "stream",
     "text": [
      "Selected low: None\n",
      "Selected ecg: None\n"
     ]
    },
    {
     "ename": "SystemExit",
     "evalue": "Couldn't find test low/ecg.",
     "output_type": "error",
     "traceback": [
      "An exception has occurred, use %tb to see the full traceback.\n",
      "\u001b[31mSystemExit\u001b[39m\u001b[31m:\u001b[39m Couldn't find test low/ecg.\n"
     ]
    },
    {
     "name": "stderr",
     "output_type": "stream",
     "text": [
      "c:\\Users\\Joseph\\generative-health-models\\.venv\\Lib\\site-packages\\IPython\\core\\interactiveshell.py:3707: UserWarning: To exit: use 'exit', 'quit', or Ctrl-D.\n",
      "  warn(\"To exit: use 'exit', 'quit', or Ctrl-D.\", stacklevel=1)\n"
     ]
    }
   ],
   "source": [
    "fold_dir = r\"data/processed/tc_multigan_fold_S10\"\n",
    "out_npz  = r\"data/processed/tc_multigan_fold_S10/test_real.npz\"\n",
    "\n",
    "low_path = ecg_path = None\n",
    "for f in glob.glob(os.path.join(fold_dir, \"test*.npy\")):\n",
    "    x = np.load(f, mmap_mode=\"r\")\n",
    "    if x.ndim == 3 and x.shape[1] == 120 and x.shape[2] in (2, 3):\n",
    "        low_path = f\n",
    "    elif x.ndim == 3 and x.shape[1] == 5250 and x.shape[2] == 1:\n",
    "        ecg_path = f\n",
    "\n",
    "print(\"Selected low:\", low_path)\n",
    "print(\"Selected ecg:\", ecg_path)\n",
    "if not (low_path and ecg_path):\n",
    "    raise SystemExit(\"Couldn't find test low/ecg.\")\n",
    "\n",
    "low = np.load(low_path)   # (N,120,2) -> [:,:,0]=EDA, [:,:,1]=RESP\n",
    "ecg = np.load(ecg_path)   # (N,5250,1)\n",
    "\n",
    "eda  = low[..., 0]\n",
    "resp = low[..., 1]\n",
    "ecg  = ecg[..., 0]\n",
    "\n",
    "os.makedirs(os.path.dirname(out_npz), exist_ok=True)\n",
    "np.savez(out_npz, eda=eda, resp=resp, ecg=ecg)\n",
    "print(\"Wrote:\", out_npz, \"| shapes:\", eda.shape, resp.shape, ecg.shape)"
   ]
  },
  {
   "cell_type": "code",
   "execution_count": 10,
   "id": "05edfd89",
   "metadata": {},
   "outputs": [
    {
     "name": "stdout",
     "output_type": "stream",
     "text": [
      "low shape: (194, 120, 2)  | ecg shape: (194, 5250, 1)\n",
      "Wrote: ../data/processed/tc_multigan_fold_S10\\test_real.npz | shapes -> eda: (194, 120) resp: (194, 120) ecg: (194, 5250)\n"
     ]
    }
   ],
   "source": [
    "fold_dir = r\"../data/processed/tc_multigan_fold_S10\"\n",
    "out_npz  = os.path.join(fold_dir, \"test_real.npz\")\n",
    "\n",
    "low = np.load(os.path.join(fold_dir, \"test_X_low.npy\"))   # (N,120,2) or (N,120,3)\n",
    "ecg = np.load(os.path.join(fold_dir, \"test_X_ecg.npy\"))   # (N,5250,1) or (N,5250)\n",
    "\n",
    "print(\"low shape:\", low.shape, \" | ecg shape:\", ecg.shape)\n",
    "\n",
    "# Take EDA and RESP from LOW\n",
    "if low.ndim == 3 and low.shape[1] == 120 and low.shape[2] >= 2:\n",
    "    eda  = low[..., 0]\n",
    "    resp = low[..., 1]\n",
    "elif low.ndim == 2 and low.shape[1] == 240:         # fallback if flattened\n",
    "    low = low.reshape(-1, 120, 2)\n",
    "    eda, resp = low[..., 0], low[..., 1]\n",
    "else:\n",
    "    raise ValueError(f\"Unexpected LOW shape {low.shape}\")\n",
    "\n",
    "# Take ECG, squeeze last dim if present\n",
    "if ecg.ndim == 3 and ecg.shape[1] == 5250 and ecg.shape[2] == 1:\n",
    "    ecg = ecg[..., 0]\n",
    "elif ecg.ndim == 2 and ecg.shape[1] == 5250:\n",
    "    pass\n",
    "else:\n",
    "    raise ValueError(f\"Unexpected ECG shape {ecg.shape}\")\n",
    "\n",
    "np.savez(out_npz, eda=eda, resp=resp, ecg=ecg)\n",
    "print(\"Wrote:\", out_npz, \"| shapes -> eda:\", eda.shape, \"resp:\", resp.shape, \"ecg:\", ecg.shape)\n"
   ]
  },
  {
   "cell_type": "code",
   "execution_count": 12,
   "id": "a1a13d8a",
   "metadata": {},
   "outputs": [
    {
     "name": "stdout",
     "output_type": "stream",
     "text": [
      "REAL keys: ['eda', 'resp', 'ecg'] {'eda': (194, 120), 'resp': (194, 120), 'ecg': (194, 5250)}\n",
      "FAKE keys: ['low', 'ecg'] {'low': (8, 120, 2), 'ecg': (8, 5250, 1)}\n"
     ]
    }
   ],
   "source": [
    "import numpy as np\n",
    "\n",
    "real_p = r\"../data/processed/tc_multigan_fold_S10/test_real.npz\"\n",
    "fake_p = r\"../results/samples_v14_mm_tune4_linearup_v4/gen_e009_lowecg.npz\"\n",
    "\n",
    "real = np.load(real_p)\n",
    "fake = np.load(fake_p)\n",
    "\n",
    "print(\"REAL keys:\", real.files, {k: real[k].shape for k in real.files})\n",
    "print(\"FAKE keys:\", fake.files, {k: fake[k].shape for k in fake.files})"
   ]
  },
  {
   "cell_type": "code",
   "execution_count": 13,
   "id": "bc31000e",
   "metadata": {},
   "outputs": [
    {
     "name": "stdout",
     "output_type": "stream",
     "text": [
      "FAKE keys/shapes: ['low', 'ecg'] {'low': (8, 120, 2), 'ecg': (8, 5250, 1)}\n",
      "Wrote: C:\\Users\\Joseph\\generative-health-models\\results\\samples_v14_mm_tune4_linearup_v4\\gen_e009_lowecg_fixed.npz | shapes: (8, 120) (8, 120) (8, 5250)\n"
     ]
    }
   ],
   "source": [
    "# --- paths (absolute to avoid CWD confusion) ---\n",
    "fake_src   = r\"C:\\Users\\Joseph\\generative-health-models\\results\\samples_v14_mm_tune4_linearup_v4\\gen_e009_lowecg.npz\"\n",
    "fake_fixed = r\"C:\\Users\\Joseph\\generative-health-models\\results\\samples_v14_mm_tune4_linearup_v4\\gen_e009_lowecg_fixed.npz\"\n",
    "\n",
    "d = np.load(fake_src)\n",
    "print(\"FAKE keys/shapes:\", d.files, {k: d[k].shape for k in d.files})\n",
    "\n",
    "low = d[\"low\"]               # (8, 120, 2)\n",
    "ecg = d[\"ecg\"]               # (8, 5250, 1)\n",
    "\n",
    "eda  = low[..., 0]           # (8, 120)\n",
    "resp = low[..., 1]           # (8, 120)\n",
    "ecg  = ecg[..., 0]           # (8, 5250), squeeze last dim\n",
    "\n",
    "np.savez(fake_fixed, eda=eda, resp=resp, ecg=ecg)\n",
    "print(\"Wrote:\", fake_fixed, \"| shapes:\", eda.shape, resp.shape, ecg.shape)"
   ]
  },
  {
   "cell_type": "code",
   "execution_count": 15,
   "id": "9d1ef505",
   "metadata": {},
   "outputs": [
    {
     "name": "stdout",
     "output_type": "stream",
     "text": [
      "norm_low keys: ['mean', 'std']\n",
      "Wrote: ..\\results\\samples_v14_mm_tune4_linearup_v4\\gen_e009_lowecg_fixed_renorm.npz {'eda': (8, 120), 'resp': (8, 120), 'ecg': (8, 5250)}\n"
     ]
    }
   ],
   "source": [
    "import numpy as np, os\n",
    "\n",
    "fake_p = r\"..\\results\\samples_v14_mm_tune4_linearup_v4\\gen_e009_lowecg_fixed.npz\"\n",
    "stats_p = r\"..\\data\\processed\\tc_multigan_fold_S10\\norm_low.npz\"\n",
    "\n",
    "fake = np.load(fake_p)\n",
    "eda = fake[\"eda\"].astype(float)\n",
    "resp = fake[\"resp\"].astype(float)\n",
    "\n",
    "stats = np.load(stats_p)\n",
    "print(\"norm_low keys:\", stats.files)\n",
    "\n",
    "# try common key names:\n",
    "mu = stats.get(\"mean\", stats.get(\"mu\", None))\n",
    "sd = stats.get(\"std\",  stats.get(\"sigma\", None))\n",
    "\n",
    "if mu is None or sd is None:\n",
    "    raise RuntimeError(\"Could not find mean/std in norm_low.npz\")\n",
    "\n",
    "# assume [EDA, RESP] ordering; swap indices if your file says otherwise\n",
    "eda = (eda - mu[0]) / (sd[0] + 1e-12)\n",
    "resp = (resp - mu[1]) / (sd[1] + 1e-12)\n",
    "\n",
    "out_p = fake_p.replace(\".npz\", \"_renorm.npz\")\n",
    "np.savez(out_p, eda=eda, resp=resp, ecg=fake[\"ecg\"])\n",
    "print(\"Wrote:\", out_p, {k: v.shape for k, v in np.load(out_p).items()})"
   ]
  },
  {
   "cell_type": "code",
   "execution_count": 16,
   "id": "1b2ffa62",
   "metadata": {},
   "outputs": [
    {
     "name": "stdout",
     "output_type": "stream",
     "text": [
      "REAL: ['eda', 'resp', 'ecg'] {'eda': (194, 120), 'resp': (194, 120), 'ecg': (194, 5250)}\n",
      "FAKE: ['eda', 'resp', 'ecg'] {'eda': (8, 120), 'resp': (8, 120), 'ecg': (8, 5250)}\n",
      "eda: real mean/std = -1.095/0.140 | fake mean/std = -1.403/0.159\n",
      "resp: real mean/std = 0.000/0.911 | fake mean/std = 0.021/0.182\n",
      "ecg: real mean/std = 0.000/0.538 | fake mean/std = 0.175/0.507\n"
     ]
    }
   ],
   "source": [
    "import numpy as np\n",
    "\n",
    "real_p = r\"..\\data\\processed\\tc_multigan_fold_S10\\test_real.npz\"\n",
    "fake_p = r\"..\\results\\samples_v14_mm_tune4_linearup_v4\\gen_e009_lowecg_fixed_renorm.npz\"\n",
    "\n",
    "real = np.load(real_p)\n",
    "fake = np.load(fake_p)\n",
    "\n",
    "print(\"REAL:\", real.files, {k: real[k].shape for k in real.files})\n",
    "print(\"FAKE:\", fake.files, {k: fake[k].shape for k in fake.files})\n",
    "\n",
    "for k in (\"eda\",\"resp\",\"ecg\"):\n",
    "    r = real[k].ravel()\n",
    "    f = fake[k].ravel()\n",
    "    print(f\"{k}: real mean/std = {r.mean():.3f}/{r.std():.3f} | fake mean/std = {f.mean():.3f}/{f.std():.3f}\")"
   ]
  },
  {
   "cell_type": "code",
   "execution_count": 19,
   "id": "39d5dc3a",
   "metadata": {},
   "outputs": [
    {
     "name": "stdout",
     "output_type": "stream",
     "text": [
      "means: [ 4.8523049e+00 -2.6733306e-04] stds: [3.3454838 3.093252 ]\n",
      "orig fake shapes: {'eda': (8, 120), 'resp': (8, 120), 'ecg': (8, 5250)}\n",
      "orig EDA/RESP ranges: -0.8139023 0.6417173 -0.96190315 0.95164174\n",
      "renorm ranges: -1.6936884548543196 -1.2585885622947701 -0.31088182900295347 0.3077373226735141\n"
     ]
    }
   ],
   "source": [
    "stats = np.load(r\"..\\data\\processed\\tc_multigan_fold_S10\\norm_low.npz\")\n",
    "print(\"means:\", stats[\"mean\"], \"stds:\", stats[\"std\"])\n",
    "\n",
    "f0 = np.load(r\"..\\results\\samples_v14_mm_tune4_linearup_v4\\gen_e009_lowecg_fixed.npz\")\n",
    "print(\"orig fake shapes:\", {k:v.shape for k,v in f0.items()})\n",
    "print(\"orig EDA/RESP ranges:\", f0[\"eda\"].min(), f0[\"eda\"].max(), f0[\"resp\"].min(), f0[\"resp\"].max())\n",
    "\n",
    "f1 = np.load(r\"..\\results\\samples_v14_mm_tune4_linearup_v4\\gen_e009_lowecg_fixed_renorm.npz\")\n",
    "print(\"renorm ranges:\", f1[\"eda\"].min(), f1[\"eda\"].max(), f1[\"resp\"].min(), f1[\"resp\"].max())"
   ]
  },
  {
   "cell_type": "code",
   "execution_count": 20,
   "id": "8cec8b88",
   "metadata": {},
   "outputs": [
    {
     "name": "stdout",
     "output_type": "stream",
     "text": [
      "REAL  EDA: {'mean': -1.0953425168991089, 'std': 0.1400976926088333, 'min': -1.3401070833206177, 'max': -0.8161068558692932}\n",
      "FAKE0 EDA: {'mean': 0.1588442623615265, 'std': 0.5316680073738098, 'min': -0.8139023184776306, 'max': 0.6417173147201538}\n",
      "FAKE1 EDA: {'mean': -1.4029243533564986, 'std': 0.15892112060340477, 'min': -1.6936884548543196, 'max': -1.2585885622947701}\n"
     ]
    }
   ],
   "source": [
    "import numpy as np\n",
    "\n",
    "real = np.load(r\"../data/processed/tc_multigan_fold_S10/test_real.npz\")\n",
    "fake0 = np.load(r\"../results/samples_v14_mm_tune4_linearup_v4/gen_e009_lowecg_fixed.npz\")          # before renorm\n",
    "fake1 = np.load(r\"../results/samples_v14_mm_tune4_linearup_v4/gen_e009_lowecg_fixed_renorm.npz\")  # after renorm\n",
    "\n",
    "def stats(x): \n",
    "    x = x.reshape(-1)\n",
    "    return dict(mean=float(np.mean(x)), std=float(np.std(x)), \n",
    "                min=float(np.min(x)), max=float(np.max(x)))\n",
    "\n",
    "print(\"REAL  EDA:\", stats(real[\"eda\"]))\n",
    "print(\"FAKE0 EDA:\", stats(fake0[\"eda\"]))  # should be ~0 mean, ~0.05–0.15 std if generator collapsed\n",
    "print(\"FAKE1 EDA:\", stats(fake1[\"eda\"]))  # if you z-scored again, std will be much larger"
   ]
  },
  {
   "cell_type": "code",
   "execution_count": 21,
   "id": "b06500c2",
   "metadata": {},
   "outputs": [
    {
     "name": "stdout",
     "output_type": "stream",
     "text": [
      "Wrote C:\\Users\\Joseph\\generative-health-models\\data\\processed\\tc_multigan_fold_S10\\train_real.npz  | eda:(2645, 120) resp:(2645, 120) y:(2645,)\n"
     ]
    }
   ],
   "source": [
    "from pathlib import Path\n",
    "import numpy as np\n",
    "\n",
    "fold = Path(r\"C:\\Users\\Joseph\\generative-health-models\\data\\processed\\tc_multigan_fold_S10\")\n",
    "\n",
    "def split_eda_resp(X, eda_first=True):\n",
    "    \"\"\"\n",
    "    Accepts X with shape (N, 2, T) or (N, T, 2).\n",
    "    Returns (eda, resp) each (N, T).\n",
    "    \"\"\"\n",
    "    if X.ndim != 3 or 2 not in X.shape:\n",
    "        raise ValueError(f\"Expected 3D array with a 2-channel axis; got shape {X.shape}\")\n",
    "    if X.shape[1] == 2:       # (N, 2, T)\n",
    "        ch0, ch1 = X[:,0,:], X[:,1,:]\n",
    "    elif X.shape[2] == 2:     # (N, T, 2)\n",
    "        ch0, ch1 = X[:,:,0], X[:,:,1]\n",
    "    else:\n",
    "        raise ValueError(f\"Couldn't find channel axis of size 2 in shape {X.shape}\")\n",
    "    return (ch0, ch1) if eda_first else (ch1, ch0)\n",
    "\n",
    "def build_npz(split, eda_first=True, label_col=0):\n",
    "    Xp = fold / f\"{split}_X_low.npy\"\n",
    "    yp = fold / f\"{split}_cond.npy\"   # adjust if your labels live elsewhere\n",
    "    if not Xp.exists():\n",
    "        raise FileNotFoundError(f\"Missing {Xp}\")\n",
    "    if not yp.exists():\n",
    "        raise FileNotFoundError(f\"Missing {yp}\")\n",
    "\n",
    "    X = np.load(Xp)\n",
    "    y_raw = np.load(yp)\n",
    "\n",
    "    # choose label column\n",
    "    if y_raw.ndim == 1:\n",
    "        y = y_raw.astype(int).ravel()\n",
    "    else:\n",
    "        # print uniques per column to help you pick\n",
    "        print(f\"{split} cond columns uniques:\", [np.unique(y_raw[:,i]) for i in range(y_raw.shape[1])])\n",
    "        y = y_raw[:, label_col].astype(int).ravel()\n",
    "\n",
    "    eda, resp = split_eda_resp(X, eda_first=eda_first)\n",
    "    outp = fold / f\"{split}_real.npz\"\n",
    "    np.savez(outp, eda=eda, resp=resp, y=y)\n",
    "    print(f\"Wrote {outp}  | eda:{eda.shape} resp:{resp.shape} y:{y.shape}\")\n",
    "\n",
    "# Run these:\n",
    "build_npz(\"train\", eda_first=True, label_col=0)\n",
    "# Only if you need to rebuild test_real.npz from arrays:\n",
    "# build_npz(\"test\", eda_first=True, label_col=0)"
   ]
  },
  {
   "cell_type": "code",
   "execution_count": 24,
   "id": "53a4bebd",
   "metadata": {},
   "outputs": [
    {
     "name": "stdout",
     "output_type": "stream",
     "text": [
      "File: C:\\Users\\Joseph\\generative-health-models\\results\\samples_v14_mm_tune4_linearup_v4\\gen_e009_lowecg_fixed.npz\n",
      "Keys: ['eda', 'resp', 'ecg']\n",
      "❌ No labels found inside fake file.\n",
      "Signals: eda/resp present | eda shape (8, 120) | resp shape (8, 120)\n",
      "Found cond file: C:\\Users\\Joseph\\generative-health-models\\data\\processed\\tc_multigan_fold_S10\\test_cond.npy | shape: (194,)\n",
      "Cond uniques: {1: 77, 2: 46, 3: 23, 4: 48}\n",
      "⚠️ Label count (194) does not match samples (8). Make sure you used the matching cond for this fake set.\n"
     ]
    }
   ],
   "source": [
    "fake_src  = base / r\"results\\samples_v14_mm_tune4_linearup_v4\\gen_e009_lowecg_fixed.npz\"\n",
    "cond_path = base / r\"data\\processed\\tc_multigan_fold_S10\\test_cond.npy\"   # labels you used when generating (if any)\n",
    "\n",
    "def guess_eda_resp_keys(npz):\n",
    "    keys = set(npz.files)\n",
    "    if {\"eda\",\"resp\"} <= keys:\n",
    "        return \"eda_resp\"\n",
    "    for k in (\"low\", \"lowecg\", \"x\", \"data\"):\n",
    "        if k in keys:\n",
    "            return k\n",
    "    return None\n",
    "\n",
    "def summarize_labels(y):\n",
    "    vals, cnts = np.unique(y, return_counts=True)\n",
    "    return dict(zip(map(int, vals), map(int, cnts)))\n",
    "\n",
    "print(\"File:\", fake_src)\n",
    "assert fake_src.exists(), \"Fake file not found.\"\n",
    "\n",
    "f = np.load(fake_src)\n",
    "print(\"Keys:\", f.files)\n",
    "\n",
    "# 1) Check for labels inside the fake file\n",
    "label_key = next((k for k in (\"y\",\"labels\",\"label\",\"Y\",\"Labels\",\"Label\") if k in f.files), None)\n",
    "if label_key:\n",
    "    y = f[label_key].ravel()\n",
    "    print(\"✅ Labels found in fake file under key:\", label_key)\n",
    "    print(\"   y shape:\", y.shape, \"| uniques:\", summarize_labels(y))\n",
    "else:\n",
    "    print(\"❌ No labels found inside fake file.\")\n",
    "\n",
    "# 2) Check signal channels and sample count\n",
    "sig_key = guess_eda_resp_keys(f) if isinstance(f, np.lib.npyio.NpzFile) else None\n",
    "N = None\n",
    "if sig_key == \"eda_resp\":\n",
    "    eda, resp = f[\"eda\"], f[\"resp\"]\n",
    "    N, T = eda.shape[0], eda.shape[1]\n",
    "    print(f\"Signals: eda/resp present | eda shape {eda.shape} | resp shape {resp.shape}\")\n",
    "elif sig_key is not None:\n",
    "    X = f[sig_key]\n",
    "    print(f\"Signals: packed under '{sig_key}' with shape {X.shape}\")\n",
    "    if X.ndim == 3 and 2 in X.shape:\n",
    "        N = X.shape[0]\n",
    "        T = X.shape[2] if X.shape[1] == 2 else X.shape[1]\n",
    "        print(f\"Interpreting as (N,2,T) or (N,T,2). N={N}, T={T}\")\n",
    "    else:\n",
    "        print(\"⚠️ Unexpected shape; expected (N,2,T) or (N,T,2).\")\n",
    "else:\n",
    "    print(\"⚠️ Could not find 'eda'/'resp' or a packed 2-channel array.\")\n",
    "\n",
    "# 3) If no labels inside, see if test_cond.npy can be used\n",
    "if not label_key:\n",
    "    if cond_path.exists():\n",
    "        y_raw = np.load(cond_path)\n",
    "        print(\"Found cond file:\", cond_path, \"| shape:\", y_raw.shape)\n",
    "        # If multi-column, try to auto-pick a binary column (0/1)\n",
    "        if y_raw.ndim == 1:\n",
    "            y_cond = y_raw.ravel()\n",
    "            print(\"Cond uniques:\", summarize_labels(y_cond))\n",
    "        else:\n",
    "            cand_cols = []\n",
    "            for c in range(y_raw.shape[1]):\n",
    "                u = np.unique(y_raw[:,c])\n",
    "                if len(u) == 2 and set(u).issubset({0,1}):\n",
    "                    cand_cols.append(c)\n",
    "            if cand_cols:\n",
    "                col = cand_cols[0]\n",
    "                y_cond = y_raw[:, col].astype(int).ravel()\n",
    "                print(f\"Auto-picked binary cond column {col} with uniques:\", summarize_labels(y_cond))\n",
    "            else:\n",
    "                print(\"⚠️ No obvious binary (0/1) column found in cond; you may need to specify label_col manually.\")\n",
    "                y_cond = y_raw[:, 0].astype(int).ravel()\n",
    "\n",
    "        if N is not None and len(y_cond) != N:\n",
    "            print(f\"⚠️ Label count ({len(y_cond)}) does not match samples ({N}). Make sure you used the matching cond for this fake set.\")\n",
    "        else:\n",
    "            print(\"If you want, you can pair these labels with the fake signals to build test_fake.npz for the classifier.\")\n",
    "    else:\n",
    "        print(\"No cond file found at:\", cond_path)"
   ]
  },
  {
   "cell_type": "code",
   "execution_count": 30,
   "id": "19bf6caf",
   "metadata": {},
   "outputs": [
    {
     "name": "stdout",
     "output_type": "stream",
     "text": [
      "torch.Size([4, 240, 2]) torch.Size([4, 6000, 1])\n",
      "torch.Size([4, 1]) None torch.Size([4, 257])\n"
     ]
    }
   ],
   "source": [
    "from models.tc_multigan import create_tc_multigan\n",
    "import torch\n",
    "\n",
    "cfg = dict(z_dim=128, condition_dim=16, seq_length_low=240, seq_length_ecg=6000, hidden_dim=256)\n",
    "G, D = create_tc_multigan(cfg)\n",
    "\n",
    "B = 4\n",
    "z = torch.randn(B, cfg['z_dim'])\n",
    "cond = torch.randn(B, cfg['seq_length_low'], cfg['condition_dim'])\n",
    "\n",
    "low_fake, ecg_fake = G(z, cond)\n",
    "print(low_fake.shape, ecg_fake.shape)  # [B, 240, 2], [B, 6000, 1]\n",
    "\n",
    "d_out = D(low_fake, ecg_fake, cond)\n",
    "print(d_out[0].shape, d_out[1], d_out[2].shape)  "
   ]
  }
 ],
 "metadata": {
  "kernelspec": {
   "display_name": ".venv (3.11.1)",
   "language": "python",
   "name": "python3"
  },
  "language_info": {
   "codemirror_mode": {
    "name": "ipython",
    "version": 3
   },
   "file_extension": ".py",
   "mimetype": "text/x-python",
   "name": "python",
   "nbconvert_exporter": "python",
   "pygments_lexer": "ipython3",
   "version": "3.11.1"
  }
 },
 "nbformat": 4,
 "nbformat_minor": 5
}

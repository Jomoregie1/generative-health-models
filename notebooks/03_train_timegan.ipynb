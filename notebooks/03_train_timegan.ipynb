{
 "cells": [
  {
   "cell_type": "code",
   "execution_count": 9,
   "id": "fed50bfe",
   "metadata": {},
   "outputs": [],
   "source": [
    "import numpy as np\n",
    "from sklearn.preprocessing import OneHotEncoder\n",
    "import joblib\n"
   ]
  },
  {
   "cell_type": "code",
   "execution_count": 10,
   "id": "65c2be69",
   "metadata": {},
   "outputs": [
    {
     "name": "stdout",
     "output_type": "stream",
     "text": [
      "✅ Loaded X shape: (171, 42000, 8)\n",
      "✅ Loaded y shape: (171,)\n"
     ]
    }
   ],
   "source": [
    "# Load segmented normalized data\n",
    "X = np.load(\"../data/processed/chest_X.npy\")  # Shape: (num_samples, window_size, num_features)\n",
    "y = np.load(\"../data/processed/chest_y.npy\")  # Shape: (num_samples,)\n",
    "\n",
    "print(f\"✅ Loaded X shape: {X.shape}\")\n",
    "print(f\"✅ Loaded y shape: {y.shape}\")"
   ]
  },
  {
   "cell_type": "code",
   "execution_count": 14,
   "id": "08e9c8a6",
   "metadata": {},
   "outputs": [
    {
     "name": "stdout",
     "output_type": "stream",
     "text": [
      "✅ Resequenced shape: (55917, 256, 8)\n",
      "✅ Labels shape: (55917,)\n"
     ]
    }
   ],
   "source": [
    "# Original shape: (171, 42000, 8)\n",
    "window_size = 256         # Size of each segment\n",
    "stride = 128              # How much to shift the window by (50% overlap)\n",
    "\n",
    "X_segmented = []\n",
    "y_segmented = []\n",
    "\n",
    "for i in range(X.shape[0]):\n",
    "    series = X[i]\n",
    "    label = y[i]\n",
    "    \n",
    "    for start in range(0, series.shape[0] - window_size + 1, stride):\n",
    "        end = start + window_size\n",
    "        X_segmented.append(series[start:end])\n",
    "        y_segmented.append(label)\n",
    "\n",
    "X_segmented = np.array(X_segmented)\n",
    "y_segmented = np.array(y_segmented)\n",
    "\n",
    "print(f\"✅ Resequenced shape: {X_segmented.shape}\")\n",
    "print(f\"✅ Labels shape: {y_segmented.shape}\")"
   ]
  },
  {
   "cell_type": "code",
   "execution_count": 22,
   "id": "49015e38",
   "metadata": {},
   "outputs": [
    {
     "name": "stdout",
     "output_type": "stream",
     "text": [
      "✅ One-hot label shape: (55917, 4)\n",
      "✅ Conditional input shape: (55917, 256, 12)\n"
     ]
    }
   ],
   "source": [
    "\n",
    "# 1. Reshape y to 2D for the encoder\n",
    "y_reshaped = y_segmented.reshape(-1, 1)  # shape: (55917, 1)\n",
    "\n",
    "# 2. One-hot encode labels\n",
    "encoder = OneHotEncoder(sparse_output=False)  # `sparse=False` if using older scikit-learn\n",
    "y_onehot = encoder.fit_transform(y_reshaped)  # shape: (55917, 4)\n",
    "\n",
    "print(f\"✅ One-hot label shape: {y_onehot.shape}\")\n",
    "\n",
    "# 3. Repeat the labels across the sequence length (256 timesteps)\n",
    "y_onehot_repeated = np.repeat(y_onehot[:, np.newaxis, :], repeats=X_segmented.shape[1], axis=1)  # shape: (55917, 256, 4)\n",
    "\n",
    "# 4. Concatenate to X along the feature dimension\n",
    "X_conditional = np.concatenate([X_segmented, y_onehot_repeated], axis=-1)  # shape: (55917, 256, 12)\n",
    "\n",
    "print(f\"✅ Conditional input shape: {X_conditional.shape}\")"
   ]
  },
  {
   "cell_type": "code",
   "execution_count": 23,
   "id": "155bb7c7",
   "metadata": {},
   "outputs": [],
   "source": [
    "np.save(\"../data/processed/chest_X_conditional.npy\", X_conditional)\n",
    "np.save(\"../data/processed/chest_y_onehot.npy\", y_onehot)"
   ]
  },
  {
   "cell_type": "code",
   "execution_count": 24,
   "id": "e152c25a",
   "metadata": {},
   "outputs": [
    {
     "data": {
      "text/plain": [
       "['../data/processed/chest_label_encoder.pkl']"
      ]
     },
     "execution_count": 24,
     "metadata": {},
     "output_type": "execute_result"
    }
   ],
   "source": [
    "joblib.dump(encoder, \"../data/processed/chest_label_encoder.pkl\")"
   ]
  }
 ],
 "metadata": {
  "kernelspec": {
   "display_name": ".venv",
   "language": "python",
   "name": "python3"
  },
  "language_info": {
   "codemirror_mode": {
    "name": "ipython",
    "version": 3
   },
   "file_extension": ".py",
   "mimetype": "text/x-python",
   "name": "python",
   "nbconvert_exporter": "python",
   "pygments_lexer": "ipython3",
   "version": "3.10.0"
  }
 },
 "nbformat": 4,
 "nbformat_minor": 5
}

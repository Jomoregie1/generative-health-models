{
 "cells": [
  {
   "cell_type": "code",
   "execution_count": 11,
   "id": "456b3b23",
   "metadata": {},
   "outputs": [
    {
     "name": "stdout",
     "output_type": "stream",
     "text": [
      "Top-level keys: dict_keys(['signal', 'label', 'subject'])\n"
     ]
    }
   ],
   "source": [
    "import pickle\n",
    "import os\n",
    "\n",
    "# Path to subject S2's data\n",
    "file_path = \"../data/raw/WESAD/S2/S2.pkl\"\n",
    "\n",
    "# Load with correct encoding\n",
    "with open(file_path, 'rb') as file:\n",
    "    data = pickle.load(file, encoding='latin1')\n",
    "\n",
    "# Check top-level keys\n",
    "print(\"Top-level keys:\", data.keys())"
   ]
  },
  {
   "cell_type": "code",
   "execution_count": 12,
   "id": "7145ad1e",
   "metadata": {},
   "outputs": [
    {
     "name": "stdout",
     "output_type": "stream",
     "text": [
      "Signal keys: dict_keys(['chest', 'wrist'])\n",
      "\n",
      "📦 Chest Signals:\n",
      "ACC: (4255300, 3)\n",
      "ECG: (4255300, 1)\n",
      "EMG: (4255300, 1)\n",
      "EDA: (4255300, 1)\n",
      "Temp: (4255300, 1)\n",
      "Resp: (4255300, 1)\n",
      "\n",
      "📦 Wrist Signals:\n",
      "ACC: (194528, 3)\n",
      "BVP: (389056, 1)\n",
      "EDA: (24316, 1)\n",
      "TEMP: (24316, 1)\n",
      "\n",
      "🎯 Labels shape: (4255300,)\n",
      "Unique labels: {np.int32(0), np.int32(1), np.int32(2), np.int32(3), np.int32(4), np.int32(6), np.int32(7)}\n"
     ]
    }
   ],
   "source": [
    "# Check available modalities\n",
    "print(\"Signal keys:\", data['signal'].keys())  # ['chest', 'wrist']\n",
    "\n",
    "# Inspect shapes under chest signals\n",
    "print(\"\\n📦 Chest Signals:\")\n",
    "for key, value in data['signal']['chest'].items():\n",
    "    print(f\"{key}: {value.shape}\")\n",
    "\n",
    "# Inspect shapes under wrist signals\n",
    "print(\"\\n📦 Wrist Signals:\")\n",
    "for key, value in data['signal']['wrist'].items():\n",
    "    print(f\"{key}: {value.shape}\")\n",
    "\n",
    "# Label information\n",
    "print(\"\\n🎯 Labels shape:\", data['label'].shape)\n",
    "print(\"Unique labels:\", set(data['label']))"
   ]
  },
  {
   "cell_type": "code",
   "execution_count": 15,
   "id": "f45693d0",
   "metadata": {},
   "outputs": [],
   "source": [
    "label_map = {\n",
    "    0: \"Baseline\",\n",
    "    1: \"Stress\",\n",
    "    2: \"Amusement\",\n",
    "    3: \"Meditation\",\n",
    "    4: \"Start\",\n",
    "    6: \"Transition\",\n",
    "    7: \"Instruction\"\n",
    "}"
   ]
  },
  {
   "cell_type": "code",
   "execution_count": 16,
   "id": "0869ab8a",
   "metadata": {},
   "outputs": [],
   "source": [
    "import numpy as np\n",
    "\n",
    "# Original label array\n",
    "labels = data['label']  # shape (4255300,)\n",
    "\n",
    "# Convert to a flat array if needed\n",
    "labels = labels.flatten()\n",
    "\n",
    "# Map to string labels\n",
    "string_labels = np.vectorize(label_map.get)(labels)\n",
    "\n",
    "# Now `string_labels` is an array like ['Baseline', 'Baseline', 'Stress', ...]"
   ]
  },
  {
   "cell_type": "code",
   "execution_count": 17,
   "id": "80aeae0e",
   "metadata": {},
   "outputs": [
    {
     "name": "stdout",
     "output_type": "stream",
     "text": [
      "   Label Code  Activity\n",
      "0           0  Baseline\n",
      "1           0  Baseline\n",
      "2           0  Baseline\n",
      "3           0  Baseline\n",
      "4           0  Baseline\n"
     ]
    }
   ],
   "source": [
    "import pandas as pd\n",
    "\n",
    "# Create a small DataFrame to inspect\n",
    "df = pd.DataFrame({\n",
    "    \"Label Code\": labels[:100],\n",
    "    \"Activity\": string_labels[:100]\n",
    "})\n",
    "\n",
    "print(df.head())"
   ]
  },
  {
   "cell_type": "code",
   "execution_count": 23,
   "id": "092dfc95",
   "metadata": {},
   "outputs": [
    {
     "name": "stdout",
     "output_type": "stream",
     "text": [
      "0    Baseline\n",
      "1    Baseline\n",
      "2    Baseline\n",
      "3    Baseline\n",
      "4    Baseline\n",
      "Name: Activity, dtype: object\n"
     ]
    }
   ],
   "source": [
    "# Extract chest signals and labels\n",
    "chest_signals = data['signal']['chest']\n",
    "labels = data['label']\n",
    "\n",
    "# Combine signals into a DataFrame\n",
    "chest_df = pd.DataFrame({\n",
    "    'ACC_X': chest_signals['ACC'][:, 0],\n",
    "    'ACC_Y': chest_signals['ACC'][:, 1],\n",
    "    'ACC_Z': chest_signals['ACC'][:, 2],\n",
    "    'ECG': chest_signals['ECG'].flatten(),\n",
    "    'EMG': chest_signals['EMG'].flatten(),\n",
    "    'EDA': chest_signals['EDA'].flatten(),\n",
    "    'Temp': chest_signals['Temp'].flatten(),\n",
    "    'Resp': chest_signals['Resp'].flatten(),\n",
    "    'Label Code': labels\n",
    "})\n",
    "\n",
    "# Apply mapping\n",
    "chest_df['Activity'] = chest_df['Label Code'].map(label_map)\n",
    "\n",
    "print(chest_df['Activity'].head())"
   ]
  }
 ],
 "metadata": {
  "kernelspec": {
   "display_name": "Python 3",
   "language": "python",
   "name": "python3"
  },
  "language_info": {
   "codemirror_mode": {
    "name": "ipython",
    "version": 3
   },
   "file_extension": ".py",
   "mimetype": "text/x-python",
   "name": "python",
   "nbconvert_exporter": "python",
   "pygments_lexer": "ipython3",
   "version": "3.13.1"
  }
 },
 "nbformat": 4,
 "nbformat_minor": 5
}

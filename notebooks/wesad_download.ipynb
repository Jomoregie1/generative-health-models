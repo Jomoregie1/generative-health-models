{
 "cells": [
  {
   "cell_type": "code",
   "execution_count": 7,
   "id": "bd8e999a",
   "metadata": {},
   "outputs": [],
   "source": [
    "import kagglehub\n",
    "import shutil\n",
    "import os\n"
   ]
  },
  {
   "cell_type": "code",
   "execution_count": 6,
   "id": "8f5df012",
   "metadata": {},
   "outputs": [
    {
     "name": "stdout",
     "output_type": "stream",
     "text": [
      "Downloading from https://www.kaggle.com/api/v1/datasets/download/orvile/wesad-wearable-stress-affect-detection-dataset?dataset_version_number=1...\n"
     ]
    },
    {
     "name": "stderr",
     "output_type": "stream",
     "text": [
      "100%|██████████| 2.43G/2.43G [01:03<00:00, 40.9MB/s]"
     ]
    },
    {
     "name": "stdout",
     "output_type": "stream",
     "text": [
      "Extracting files...\n"
     ]
    },
    {
     "name": "stderr",
     "output_type": "stream",
     "text": [
      "\n"
     ]
    },
    {
     "name": "stdout",
     "output_type": "stream",
     "text": [
      "Path to dataset files: C:\\Users\\Joseph\\.cache\\kagglehub\\datasets\\orvile\\wesad-wearable-stress-affect-detection-dataset\\versions\\1\n"
     ]
    }
   ],
   "source": [
    "path = kagglehub.dataset_download(\"orvile/wesad-wearable-stress-affect-detection-dataset\")\n",
    "\n",
    "print(\"Path to dataset files:\", path)"
   ]
  },
  {
   "cell_type": "code",
   "execution_count": 12,
   "id": "603832af",
   "metadata": {},
   "outputs": [
    {
     "name": "stdout",
     "output_type": "stream",
     "text": [
      "Dataset copied to: C:\\Users\\Joseph\\generative-health-models\\data\\raw\n"
     ]
    }
   ],
   "source": [
    "# Absolute source path from kagglehub cache\n",
    "source_path = r\"C:\\Users\\Joseph\\.cache\\kagglehub\\datasets\\orvile\\wesad-wearable-stress-affect-detection-dataset\\versions\\1\"\n",
    "\n",
    "# Absolute path to your desired 'data/raw/wesad' folder\n",
    "project_root = r\"C:\\Users\\Joseph\\generative-health-models\"\n",
    "target_path = os.path.join(project_root, \"data\", \"raw\")\n",
    "\n",
    "# Make sure the target directory exists\n",
    "os.makedirs(target_path, exist_ok=True)\n",
    "\n",
    "# Copy contents\n",
    "shutil.copytree(source_path, target_path, dirs_exist_ok=True)\n",
    "\n",
    "print(\"Dataset copied to:\", target_path)"
   ]
  }
 ],
 "metadata": {
  "kernelspec": {
   "display_name": "Python 3",
   "language": "python",
   "name": "python3"
  },
  "language_info": {
   "codemirror_mode": {
    "name": "ipython",
    "version": 3
   },
   "file_extension": ".py",
   "mimetype": "text/x-python",
   "name": "python",
   "nbconvert_exporter": "python",
   "pygments_lexer": "ipython3",
   "version": "3.13.1"
  }
 },
 "nbformat": 4,
 "nbformat_minor": 5
}
